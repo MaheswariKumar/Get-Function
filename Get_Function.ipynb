{
  "nbformat": 4,
  "nbformat_minor": 0,
  "metadata": {
    "colab": {
      "name": "Get Function.ipynb",
      "provenance": [],
      "collapsed_sections": [],
      "authorship_tag": "ABX9TyOJiDViiIVS3k9b5NXPhV22",
      "include_colab_link": true
    },
    "kernelspec": {
      "name": "python3",
      "display_name": "Python 3"
    }
  },
  "cells": [
    {
      "cell_type": "markdown",
      "metadata": {
        "id": "view-in-github",
        "colab_type": "text"
      },
      "source": [
        "<a href=\"https://colab.research.google.com/github/MaheswariKumar/Get-Function/blob/main/Get_Function.ipynb\" target=\"_parent\"><img src=\"https://colab.research.google.com/assets/colab-badge.svg\" alt=\"Open In Colab\"/></a>"
      ]
    },
    {
      "cell_type": "markdown",
      "metadata": {
        "id": "vnRHKdPU2tUP"
      },
      "source": [
        "**Get()**"
      ]
    },
    {
      "cell_type": "markdown",
      "metadata": {
        "id": "3VckdFY52xwJ"
      },
      "source": [
        "\r\n",
        "\r\n",
        "* When \"get()\" is called it checks if the given key exists in the dict\r\n",
        "\r\n",
        "* If it does exist, the value for that key is returned  \r\n",
        "\r\n",
        "\r\n",
        "* If it does not exist then the value of the default argument is returned instead\r\n",
        "\r\n",
        "\r\n",
        "\r\n",
        "\r\n",
        "\r\n"
      ]
    },
    {
      "cell_type": "code",
      "metadata": {
        "colab": {
          "base_uri": "https://localhost:8080/"
        },
        "id": "UD5cz9Q12GcL",
        "outputId": "fdff626b-0df9-4de6-9143-5db98996007c"
      },
      "source": [
        "name_for_userid = {\r\n",
        "    382: \"Alice\",\r\n",
        "    590: \"Bob\",\r\n",
        "    951: \"Dilbert\",\r\n",
        "}\r\n",
        "\r\n",
        "def greeting(userid):\r\n",
        "    return \"Hi!\",  name_for_userid.get(userid, \"there\")\r\n",
        "\r\n",
        "greeting(382)"
      ],
      "execution_count": 2,
      "outputs": [
        {
          "output_type": "execute_result",
          "data": {
            "text/plain": [
              "('Hi!', 'Alice')"
            ]
          },
          "metadata": {
            "tags": []
          },
          "execution_count": 2
        }
      ]
    },
    {
      "cell_type": "code",
      "metadata": {
        "colab": {
          "base_uri": "https://localhost:8080/"
        },
        "id": "ywbzXS2S2jkK",
        "outputId": "c757a1aa-085d-4aff-e42c-2f681c1da362"
      },
      "source": [
        "name_for_userid = {\r\n",
        "    382: \"Alice\",\r\n",
        "    590: \"Bob\",\r\n",
        "    951: \"Dilbert\",\r\n",
        "}\r\n",
        "\r\n",
        "def greeting(userid):\r\n",
        "    return \"Hi!\",  name_for_userid.get(userid, \"there\")\r\n",
        "\r\n",
        "greeting(456)"
      ],
      "execution_count": 3,
      "outputs": [
        {
          "output_type": "execute_result",
          "data": {
            "text/plain": [
              "('Hi!', 'there')"
            ]
          },
          "metadata": {
            "tags": []
          },
          "execution_count": 3
        }
      ]
    },
    {
      "cell_type": "code",
      "metadata": {
        "id": "Q8vOdsfY3WmH"
      },
      "source": [
        ""
      ],
      "execution_count": null,
      "outputs": []
    }
  ]
}